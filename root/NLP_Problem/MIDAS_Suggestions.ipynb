{
  "nbformat": 4,
  "nbformat_minor": 0,
  "metadata": {
    "colab": {
      "name": "MIDAS_Suggestions.ipynb",
      "version": "0.3.2",
      "provenance": [],
      "collapsed_sections": [],
      "toc_visible": true
    },
    "kernelspec": {
      "name": "python3",
      "display_name": "Python 3"
    },
    "accelerator": "GPU"
  },
  "cells": [
    {
      "metadata": {
        "id": "ADbvzESel17T",
        "colab_type": "text"
      },
      "cell_type": "markdown",
      "source": [
        "## NLP TASK - SUGGESTION PREDICTION\n",
        "### KAUSTAV CHANDA  &nbsp;&nbsp;&nbsp;  https://github.com/Kaustav97 \n",
        "\n",
        "\n",
        "---\n",
        "\n"
      ]
    },
    {
      "metadata": {
        "id": "KwRLZNsmokzY",
        "colab_type": "text"
      },
      "cell_type": "markdown",
      "source": [
        "### Key points of my approach for this task\n",
        " -   Given that training data was limited, I chose to extend a pre-built vocabulary : the 20,000 most common words in Wikipedia dictionary => common_vocab.pkl \n",
        " -   Used GloVe vectors as the vectorizor to build the initial Embedding layer\n",
        " -   Trained a 5-layer network, with a Bidirectional GRU running on the embeddings, followed by a Unidirectional GRU on the concatenated outputs, with 3 dense layers to build up to the final prediction\n",
        " \n",
        " ### Input:\n",
        " -   common_vocab.pkl - stock dictionary of word tokens\n",
        " -   glove.6B.zip - downloaded by the script (takes few seconds on Colab)\n"
      ]
    },
    {
      "metadata": {
        "id": "OUr_GZyu9drN",
        "colab_type": "code",
        "outputId": "e5496aa6-99dd-4c93-c872-fef3282e0e24",
        "colab": {
          "base_uri": "https://localhost:8080/",
          "height": 364
        }
      },
      "cell_type": "code",
      "source": [
        "!wget http://nlp.stanford.edu/data/glove.6B.zip && unzip glove.6B.zip"
      ],
      "execution_count": 1,
      "outputs": [
        {
          "output_type": "stream",
          "text": [
            "--2019-03-26 15:50:38--  http://nlp.stanford.edu/data/glove.6B.zip\n",
            "Resolving nlp.stanford.edu (nlp.stanford.edu)... 171.64.67.140\n",
            "Connecting to nlp.stanford.edu (nlp.stanford.edu)|171.64.67.140|:80... connected.\n",
            "HTTP request sent, awaiting response... 302 Found\n",
            "Location: https://nlp.stanford.edu/data/glove.6B.zip [following]\n",
            "--2019-03-26 15:50:38--  https://nlp.stanford.edu/data/glove.6B.zip\n",
            "Connecting to nlp.stanford.edu (nlp.stanford.edu)|171.64.67.140|:443... connected.\n",
            "HTTP request sent, awaiting response... 200 OK\n",
            "Length: 862182613 (822M) [application/zip]\n",
            "Saving to: ‘glove.6B.zip’\n",
            "\n",
            "glove.6B.zip        100%[===================>] 822.24M  11.7MB/s    in 63s     \n",
            "\n",
            "2019-03-26 15:51:42 (13.0 MB/s) - ‘glove.6B.zip’ saved [862182613/862182613]\n",
            "\n",
            "Archive:  glove.6B.zip\n",
            "  inflating: glove.6B.50d.txt        \n",
            "  inflating: glove.6B.100d.txt       \n",
            "  inflating: glove.6B.200d.txt       \n",
            "  inflating: glove.6B.300d.txt       \n"
          ],
          "name": "stdout"
        }
      ]
    },
    {
      "metadata": {
        "id": "_RHGZbF6ctDJ",
        "colab_type": "code",
        "colab": {}
      },
      "cell_type": "code",
      "source": [
        "## read training .csv file\n",
        "\n",
        "import pandas as pd\n",
        "df = pd.read_csv('V1.4_Training.csv',names=['idx','text','label','rem'])\n",
        "df = df.drop(['idx','rem'],axis=1) "
      ],
      "execution_count": 0,
      "outputs": []
    },
    {
      "metadata": {
        "id": "Q9Hx47pdq_AT",
        "colab_type": "text"
      },
      "cell_type": "markdown",
      "source": [
        "#### Text Preprocessing\n",
        "\n",
        "Series of operations applied in order:\n",
        "> 1. Replace all links, and dotted addresses with <link\\> token , so as to differentiate them from normal word 'link'\n",
        "> 2. Remove all items in set {$%@&*#}\n",
        "> 3. Remove parentheses\n",
        "> 4. Remove series of dots, underscores and whitespaces\n",
        "> 5. convert everything to lowercase"
      ]
    },
    {
      "metadata": {
        "id": "r2kAFWzpqof3",
        "colab_type": "code",
        "colab": {}
      },
      "cell_type": "code",
      "source": [
        "import re\n",
        "repl= {'\"':''}\n",
        "df = df.replace(repl,regex=True)\n",
        "# LINKS: \n",
        "df['text'] = df['text'].apply(lambda x:re.sub(r\"(http|ftp|https):\\/\\/([\\w_-]+(?:(?:\\.[\\w_-]+)+))([\\w.,@?^=%&:\\/~+#-]*[\\w@?^=%&\\/~+#-])?\" ,r\" <LINK> \",x) )\n",
        "df['text'] = df['text'].apply(lambda x:re.sub(r\"\\w+((\\.\\w+))+\",r\" <LINK> \",x) )\n",
        "df['text'] = df['text'].apply(lambda x:re.sub(r\"[$%@&*#]\",r\" \",x) )\n",
        "df['text'] = df['text'].apply(lambda x:re.sub(r\"[\\(|\\)]\",r\" \",x) )\n",
        "# df['text'] = df['text'].apply(lambda x:re.sub(r\"(\\w)\\.(\\w)\",r\"\\1 \\2\",x) )\n",
        "df['text'] = df['text'].apply(lambda x:re.sub(r\"(\\.)(\\.+)\",r\" \",x))\n",
        "df['text'] = df['text'].apply(lambda x:re.sub(r\"_+\",r\" \",x) )\n",
        "df['text'] = df['text'].apply(lambda x:re.sub(r\"\\s+\",r\" \",x) )\n",
        "df['text'] = df['text'].apply(lambda x:x.lower() )"
      ],
      "execution_count": 0,
      "outputs": []
    },
    {
      "metadata": {
        "id": "F7jy2RuJdhkM",
        "colab_type": "code",
        "outputId": "8f97d3cd-c1a0-4da4-ce2f-eb37ebd2e99e",
        "colab": {
          "base_uri": "https://localhost:8080/",
          "height": 1114
        }
      },
      "cell_type": "code",
      "source": [
        "tmp = df\n",
        "pd.set_option('display.max_colwidth', -1)\n",
        "print( df['text'].sample(100) )\n",
        "# print(tmp.iloc[782])\n",
        "# print(tmp.iloc[785])\n",
        "# print(tmp.iloc[789])\n"
      ],
      "execution_count": 4,
      "outputs": [
        {
          "output_type": "stream",
          "text": [
            "255     windows phone <link> introduces the social extensibility framework.                                                                                                                                                                                                                                                                                                                                                                                                \n",
            "4706    i'm delaying the registration and app creation, untill it is possible.                                                                                                                                                                                                                                                                                                                                                                                             \n",
            "5801    so at the moment i have to tell my customers: open the folder-picker and navigate from the pictures-library to the path:d:\\very long path \\final folder.                                                                                                                                                                                                                                                                                                           \n",
            "3201    this is elementary school level invoice.                                                                                                                                                                                                                                                                                                                                                                                                                           \n",
            "1516    if a contact has a phone number whose type is company, then you have no way to access it in a 3rd-party app, because the <link> does not contain it.                                                                                                                                                                                                                                                                                                               \n",
            "7162    the test-flight certification process builds the same package internally.                                                                                                                                                                                                                                                                                                                                                                                          \n",
            "1193    please see the log text below to understand circumstance.                                                                                                                                                                                                                                                                                                                                                                                                          \n",
            "7428    also please don't reply me with answers under this <link>                                                                                                                                                                                                                                                                                                                                                                                                          \n",
            "1456    in fact when the debugger is in break mode, you can edit the local function being executed.                                                                                                                                                                                                                                                                                                                                                                        \n",
            "2691    it shows up in the store as jl planner.                                                                                                                                                                                                                                                                                                                                                                                                                            \n",
            "1340    and its very frustrating to see other platforms like android and blackberry developers can easily do it.                                                                                                                                                                                                                                                                                                                                                           \n",
            "2735    filtering out the windows 10 by category shown almost no results.                                                                                                                                                                                                                                                                                                                                                                                                  \n",
            "6784    i hope everyone can publish fonts on the store                                                                                                                                                                                                                                                                                                                                                                                                                     \n",
            "2920    also the store is much less friendly for developer than the other 2.                                                                                                                                                                                                                                                                                                                                                                                               \n",
            "178     with the two stores combining, can we bring built-in trial mode support to windows phone?                                                                                                                                                                                                                                                                                                                                                                          \n",
            "3624    how?                                                                                                                                                                                                                                                                                                                                                                                                                                                               \n",
            "4988    it would be good if textboxregex will be automatically delete letters at input like the textboxmask.                                                                                                                                                                                                                                                                                                                                                               \n",
            "5421    i cannot report my problems from dashboard so i do it here.                                                                                                                                                                                                                                                                                                                                                                                                        \n",
            "2237    bulk publishers should be made to consolidate their apps, and the rest should not pass.                                                                                                                                                                                                                                                                                                                                                                            \n",
            "3116    beat                                                                                                                                                                                                                                                                                                                                                                                                                                                               \n",
            "7241    unfortunately most of it is undocumented and does not seem to be stabilized 2018 spring update for instance changed iapplicationview's clsid so apps using it stopped working .                                                                                                                                                                                                                                                                                    \n",
            "1815    plz fix this.                                                                                                                                                                                                                                                                                                                                                                                                                                                      \n",
            "5484    each time i sit down the display setting for the external screen is to clone but i want it to be extended.                                                                                                                                                                                                                                                                                                                                                         \n",
            "3190    add more api which gives device control to developer like api which gives information like - <link> usage,ram usage,device temperature,imei information,phone no ,installed app information,carrier signal related information,device reset access, disk space consume size,sd card size availability and consume size,and many more . o that we can do better utilization of device and make that kind of app where user can access all information at one place .\n",
            "8042    in my opinion uwp is too much app centric.                                                                                                                                                                                                                                                                                                                                                                                                                         \n",
            "417     further, extend background agent player to play not only audio tracks but song as well, thanks                                                                                                                                                                                                                                                                                                                                                                     \n",
            "1375    i would jump at the opportunity to adapt my apps for windows phone if microsoft more                                                                                                                                                                                                                                                                                                                                                                               \n",
            "7305    i believe there is progress coming way for this issue already but i want to post it just to show my desire for it.                                                                                                                                                                                                                                                                                                                                                 \n",
            "2549    it'll save you a lot of typing, looking for controls and types etc.                                                                                                                                                                                                                                                                                                                                                                                                \n",
            "8069    is there some sort of bug tracker for microsoft software?                                                                                                                                                                                                                                                                                                                                                                                                          \n",
            "                                  ...                                                                                                                                                                                                                                                                                                                                                                                                                                      \n",
            "7366    poolmon is not offered as a standalone tool and only as part of the windows driver kit so i must download the entire windows driver kit to access this one small tool.                                                                                                                                                                                                                                                                                             \n",
            "7951    i want in wp8 back it stiill works in wp7 that i can set a color for applicationbar icons.                                                                                                                                                                                                                                                                                                                                                                         \n",
            "6384    itâs also not wrapping the headers.                                                                                                                                                                                                                                                                                                                                                                                                                              \n",
            "7505    uwp combobox is not showing the selected value under certain resolutions.                                                                                                                                                                                                                                                                                                                                                                                          \n",
            "5160    nevertheless if xbox is running and i use the remotelauncher the app is at least started correctly.                                                                                                                                                                                                                                                                                                                                                                \n",
            "3817    after registration, unclaimed donations will be transferred from donator to author.                                                                                                                                                                                                                                                                                                                                                                                \n",
            "7839    allow apps to act as data sources for other apps.                                                                                                                                                                                                                                                                                                                                                                                                                  \n",
            "4947    let's say there is a app which display news stories.                                                                                                                                                                                                                                                                                                                                                                                                               \n",
            "3677    on feedly android app, when i share something through email, it goes straight to gmail app, when i rather want to use the regular email app on that plataform.                                                                                                                                                                                                                                                                                                     \n",
            "6371    if their app like mine is published solely to the xbox then it makes it very hard for users to become aware of your app.                                                                                                                                                                                                                                                                                                                                           \n",
            "471     i have apps i would like to transfer which had iaps but i cannot do more                                                                                                                                                                                                                                                                                                                                                                                           \n",
            "5836    i've reverted to . <link> <link> until this gets fixed.                                                                                                                                                                                                                                                                                                                                                                                                            \n",
            "7155    so this crash is not the problem reported by the certification process!                                                                                                                                                                                                                                                                                                                                                                                            \n",
            "4431    regardless of votes group or technical people should check them regularly for ideas and bundle them together in a service pack                                                                                                                                                                                                                                                                                                                                     \n",
            "151     for one of our products we need to support nfc card reading/writing with existing devices and several types of cards mifare, ul, ulc, calypso, desfire, maybe even more i've read that for <link> the functionality will be more                                                                                                                                                                                                                                   \n",
            "6337    we live in a connected world.                                                                                                                                                                                                                                                                                                                                                                                                                                      \n",
            "209     change exchange rate between argentina, indonesia, south africa.                                                                                                                                                                                                                                                                                                                                                                                                   \n",
            "835     this can help us implement positioning in a small aera, which just like what apple ibeacon does.                                                                                                                                                                                                                                                                                                                                                                   \n",
            "2799    in silverlight, it's maintained merely with different urls.                                                                                                                                                                                                                                                                                                                                                                                                        \n",
            "527     that would rock live tiles capabilities to extreme                                                                                                                                                                                                                                                                                                                                                                                                                 \n",
            "5139    please can someone implement this line of code and let me know if if is already working?                                                                                                                                                                                                                                                                                                                                                                           \n",
            "8347    finger lifts up from screen                                                                                                                                                                                                                                                                                                                                                                                                                                        \n",
            "3379    and i would gladly pay for <link> a phone toy on my pc and forcing me to more                                                                                                                                                                                                                                                                                                                                                                                      \n",
            "8032    there are situations where you might want to interrupt navigating away from a page when using navigationview.                                                                                                                                                                                                                                                                                                                                                      \n",
            "1246    it will be a good idea if you introduce a trust center or maybe trusted apps, which requires more review form microsoft before publishing maybe.                                                                                                                                                                                                                                                                                                                   \n",
            "6421    apis is messy and not appropriate for loading scale sensitive assets.                                                                                                                                                                                                                                                                                                                                                                                              \n",
            "6196    microsoft ime and justsystems atok work fine.                                                                                                                                                                                                                                                                                                                                                                                                                      \n",
            "3601    i'm talking about just integrating my stream / followed tumblrs, that is, reading not posting.                                                                                                                                                                                                                                                                                                                                                                     \n",
            "7352    is that be design?                                                                                                                                                                                                                                                                                                                                                                                                                                                 \n",
            "7709    a/b testing is crucial for quantitative marketing.                                                                                                                                                                                                                                                                                                                                                                                                                 \n",
            "Name: text, Length: 100, dtype: object\n"
          ],
          "name": "stdout"
        }
      ]
    },
    {
      "metadata": {
        "id": "24uM286Y7uzl",
        "colab_type": "code",
        "outputId": "62f49b31-f1a2-47e0-de89-f7159b6f90f7",
        "colab": {
          "base_uri": "https://localhost:8080/",
          "height": 364
        }
      },
      "cell_type": "code",
      "source": [
        "df['length'] = df['text'].apply(lambda x:len(x))\n",
        "df['length'].hist()"
      ],
      "execution_count": 5,
      "outputs": [
        {
          "output_type": "execute_result",
          "data": {
            "text/plain": [
              "<matplotlib.axes._subplots.AxesSubplot at 0x7f3315b47eb8>"
            ]
          },
          "metadata": {
            "tags": []
          },
          "execution_count": 5
        },
        {
          "output_type": "display_data",
          "data": {
            "image/png": "[encoded data removed]",
            "text/plain": [
              "<Figure size 576x396 with 1 Axes>"
            ]
          },
          "metadata": {
            "tags": []
          }
        }
      ]
    },
    {
      "metadata": {
        "id": "FGrbZhMntceb",
        "colab_type": "text"
      },
      "cell_type": "markdown",
      "source": [
        "Huge disparity in text lenghts! We remove negligible instances by keeping 500 as the cutoff threshold. Hence , keep maxlen=500 words"
      ]
    },
    {
      "metadata": {
        "id": "EyaRK51-tZv-",
        "colab_type": "code",
        "colab": {
          "base_uri": "https://localhost:8080/",
          "height": 156
        },
        "outputId": "92001477-7bb6-4bfd-90d5-dcbe5f153fef"
      },
      "cell_type": "code",
      "source": [
        "print(\"BEFORE\",df.count())\n",
        "df = df[df['length']<500]\n",
        "print( \"AFTER\",df.count() )"
      ],
      "execution_count": 6,
      "outputs": [
        {
          "output_type": "stream",
          "text": [
            "BEFORE text      8500\n",
            "label     8499\n",
            "length    8500\n",
            "dtype: int64\n",
            "AFTER text      8480\n",
            "label     8479\n",
            "length    8480\n",
            "dtype: int64\n"
          ],
          "name": "stdout"
        }
      ]
    },
    {
      "metadata": {
        "id": "Ie3cb1OuctAd",
        "colab_type": "code",
        "outputId": "2582d390-4049-4e36-a48c-f4f32bfbaac7",
        "colab": {
          "base_uri": "https://localhost:8080/",
          "height": 225
        }
      },
      "cell_type": "code",
      "source": [
        "neg_df = df[df['label']=='0']\n",
        "pos_df = df[df['label']=='1']\n",
        "print(pos_df.count())\n",
        "print(neg_df.count())\n",
        "print(df.count())"
      ],
      "execution_count": 7,
      "outputs": [
        {
          "output_type": "stream",
          "text": [
            "text      2078\n",
            "label     2078\n",
            "length    2078\n",
            "dtype: int64\n",
            "text      6389\n",
            "label     6389\n",
            "length    6389\n",
            "dtype: int64\n",
            "text      8480\n",
            "label     8479\n",
            "length    8480\n",
            "dtype: int64\n"
          ],
          "name": "stdout"
        }
      ]
    },
    {
      "metadata": {
        "id": "edQCdrNKcs5c",
        "colab_type": "code",
        "outputId": "2fa5bab8-74fb-4d30-d591-fcf69b7b63ff",
        "colab": {
          "base_uri": "https://localhost:8080/",
          "height": 1114
        }
      },
      "cell_type": "code",
      "source": [
        "# sample positive and negative datasets:\n",
        "pos_df['text'].sample(30) , neg_df['text'].sample(30)"
      ],
      "execution_count": 10,
      "outputs": [
        {
          "output_type": "execute_result",
          "data": {
            "text/plain": [
              "(7649    please provide the ability to the developer to change the color of the keyboard inside their app.                                                                                                                                                  \n",
              " 6991    i think microsoft needs or boost xaml development or if it doesn't interest it open source it then the community can itself improve it                                                                                                             \n",
              " 7797    also the scroll viewer should have options to disable overscrolling effect.                                                                                                                                                                        \n",
              " 406     i would like to be able to tell the system to always open with skype.                                                                                                                                                                              \n",
              " 7765    microsoft should include a good ui for the dashboard and to make some arrangement to display total downloads in the main <link> that of google android dashboardthe windows developer dashboard is simply boring stuff                             \n",
              " 3570    such a login process should not be allowed.                                                                                                                                                                                                        \n",
              " 5103    can we please improve the situation by adding missing api                                                                                                                                                                                          \n",
              " 3850    i can use flipboard to access my feeds in sina weibo, but i like feedly better, so if it can be done in feedly, it will be great for me.                                                                                                           \n",
              " 6985    it should also be possible to easily select the device where you want to play your system sounds but also to select two channels                                                                                                                   \n",
              " 7805    please add recent places to suggestedstartlocation in fileopenpicker api.                                                                                                                                                                          \n",
              " 6898    at the very least don't delete reviews from the dev center even if they're not displayed in the store so we can use them for marketing etc                                                                                                         \n",
              " 974     i need a way to remove files from my wp8 device which have been disliked.                                                                                                                                                                          \n",
              " 3898    my suggestion is to honour the preferred browser, if chosen, when using more generic based web sharing services.                                                                                                                                   \n",
              " 5130    so please allow uwp apps without .net native!                                                                                                                                                                                                      \n",
              " 7628    and it's good if it will be work on windows 7 too.                                                                                                                                                                                                 \n",
              " 640     hi is it possible to add proceeds since last payment information in the windows phone dev center applications                                                                                                                                      \n",
              " 5032    please add allaccountsreadwrite to userdataaccountstoreaccesstype in order to allow to creates calendars on remote calendar providers                                                                                                              \n",
              " 3661    chromecast support would be great so i could read my news on big screen.                                                                                                                                                                           \n",
              " 7975    the windows phone emulator should include the ability to manage vm snapshots for windows phone images.                                                                                                                                             \n",
              " 5108    allow to register background tasks to be registered when die app is first installed from store or side-loaded without having the need to start the app first.                                                                                      \n",
              " 4574    please, to have competitive advantage, i would like you to provide an expedite package for app certification for developers who wants their apps to be published fast.                                                                             \n",
              " 2543     <link> if i search something the first app in the list should be the one with the best user rating and most frequent updates, even if the app is not the official one.                                                                            \n",
              " 3774    what i really want are gmail-style filters for feeds, to automatically star or mark as read based on matches.                                                                                                                                      \n",
              " 3520    would love a 1-click add to instapaper, rather than opening a new window yes i have a password and even the browser javascript bug .                                                                                                               \n",
              " 8245    the proposal is to add something like: // something happened update your ui or run your business logic                                                                                                                                             \n",
              " 7809    give the power to the developer to decide if a page is allowed to use the scriptnotify event or not!                                                                                                                                               \n",
              " 6900    2 make it possible to add the environmentpermission node in the <link> to allow environment variables to be retrieved.                                                                                                                             \n",
              " 4977    allow copy paste in settings pages for path instructions and especially in failure/error outcomes for self repair fix research/lookups.                                                                                                            \n",
              " 6869    music app can provide to its users an extended network functionality such as audio streaming upnp/dlna or smb/cifs or ftp client to get music files from server upnp/dlna client to send audio data to renderer upnp/dlna media server or renderer.\n",
              " 7785    please send more information on app before removal of suspension.                                                                                                                                                                                  \n",
              " Name: text, dtype: object,\n",
              " 4228    is this a problem that hacker vision needs to address?                                                                                                                           \n",
              " 7489    but there's no numerical value representing the amount of data that will have to be downloaded.                                                                                  \n",
              " 2482    when i see the palm pre's multitask switch, i know there is something ms can do better.                                                                                          \n",
              " 6641    hello all                                                                                                                                                                        \n",
              " 1825    something like <link> but from ms, perhaps a part of <link> ?                                                                                                                    \n",
              " 5483    webauthenticationbroker is becoming obsolete as websites like github are dropping support of the ie browser.                                                                     \n",
              " 1629    having to convert a .wav file to .wma or .mp3 format, for selection in the saveringtonetask, is a very difficult process that involves web services and licensing considerations.\n",
              " 87      birthday are always set to low values like 05/05/0004 , but if i try to navigate the contacts through <link> or contacts/people app i can see the right values.                  \n",
              " 4421    the store randomly gives the old or the new version of my app.                                                                                                                   \n",
              " 8335    this is what i am currently using                                                                                                                                                \n",
              " 4626    google does that in android.                                                                                                                                                     \n",
              " 8089    this crash only happens using the fall creators update after the clipping issue was fixed.                                                                                       \n",
              " 1811    a development mode with access granted to all api is focused for business apps.                                                                                                  \n",
              " 3215    note: the dev center not showing delete option for this particular name.                                                                                                         \n",
              " 5773    otherwise yet again mvvm is broken.                                                                                                                                              \n",
              " 6660    the wns currently does not seem to support loc-key loc-args apns equivalents.                                                                                                    \n",
              " 473     see my example implementation here: <link>                                                                                                                                       \n",
              " 1320    not really sure where to put this, so i'm going to ask here.                                                                                                                     \n",
              " 2034    today application are achieving this by embedding browser control which is not a good expereince for end user.                                                                   \n",
              " 7346    allegedly this works however i have found thread after thread of people looking for a real solution but no one appears to make any headway because vs gives useless feedback.    \n",
              " 5658    incremental loading: i know this is already in the community toolkit.                                                                                                            \n",
              " 6178    a it is extremely slow.                                                                                                                                                          \n",
              " 7218    its usage would be similar to selectedforeground and selectedborderbrush:                                                                                                        \n",
              " 8417    functionality similar to people app.                                                                                                                                             \n",
              " 6724    there has been a huge spike in spammers scraping the windows store website for apps' support email.                                                                              \n",
              " 6258    i noticed this problem as soon as i adapted my app to use imageex.                                                                                                               \n",
              " 5462    i've also posted the full exception there.                                                                                                                                       \n",
              " 2371    adding new test users without new submission.                                                                                                                                    \n",
              " 1543    a media picker control that you could activate that would let the user go through their media library and check off a list of songs or videos.                                   \n",
              " 5200    yellow exclamation?                                                                                                                                                              \n",
              " Name: text, dtype: object)"
            ]
          },
          "metadata": {
            "tags": []
          },
          "execution_count": 10
        }
      ]
    },
    {
      "metadata": {
        "id": "xLlfxs8_Vdwt",
        "colab_type": "code",
        "colab": {
          "base_uri": "https://localhost:8080/",
          "height": 34
        },
        "outputId": "5e7bfb2b-0b58-47b4-f0c4-47ba8e127bcf"
      },
      "cell_type": "code",
      "source": [
        "# Build GloVe index from file\n",
        "import numpy as np\n",
        "import pandas as pd\n",
        "import re\n",
        "import keras\n",
        "import pickle\n",
        "from keras.layers import Input, Dense, GRU, Dropout\n",
        "from keras.models import Model\n",
        "import numpy as np\n",
        "\n",
        "\n",
        "def read_glove_vecs(glove_file):\n",
        "    with open(glove_file, 'r') as f:\n",
        "        words = set()\n",
        "        word_to_vec_map = {}\n",
        "        for line in f:\n",
        "            line = line.strip().split()\n",
        "            curr_word = line[0]\n",
        "            words.add(curr_word)\n",
        "            word_to_vec_map[curr_word] = np.array(line[1:], dtype=np.float64)\n",
        "        \n",
        "        i = 1\n",
        "        words_to_index = {}\n",
        "        \n",
        "        index_to_words = {}\n",
        "        for w in sorted(words):\n",
        "            words_to_index[w] = i\n",
        "            index_to_words[i] = w\n",
        "            i = i + 1\n",
        "    return words_to_index, index_to_words, word_to_vec_map\n",
        "  \n",
        "\n",
        "words_to_index, index_to_words, word_to_vec_map = read_glove_vecs('glove.6B.300d.txt')"
      ],
      "execution_count": 16,
      "outputs": [
        {
          "output_type": "stream",
          "text": [
            "Using TensorFlow backend.\n"
          ],
          "name": "stderr"
        }
      ]
    },
    {
      "metadata": {
        "id": "2dXMtp5CuuHc",
        "colab_type": "text"
      },
      "cell_type": "markdown",
      "source": [
        "Input Text Preprocessing: \n",
        "-  let's -> let us, won't -> will not , etc"
      ]
    },
    {
      "metadata": {
        "id": "UZI5Ys8uVdxC",
        "colab_type": "code",
        "colab": {}
      },
      "cell_type": "code",
      "source": [
        "def clean_str(string):\n",
        "    string = string.strip().lower()\n",
        "    \n",
        "    if 'let\\'s' in string:\n",
        "      string = re.sub(r'let\\'s', 'let us', string)\n",
        "    if 'lets' in string:\n",
        "      string = re.sub(r'lets', 'let us', string)\n",
        "      \n",
        "    string = re.sub(r\"\\'s\", \" is\", string)\n",
        "    string = re.sub(r\"\\'ve\", \" have\", string)\n",
        "    if 'wont ' in string:\n",
        "      string = re.sub(r\"won\\'?t\", \"will not\", string)\n",
        "    if 'won\\'t ' in string:\n",
        "      string = re.sub(r\"won\\'?t\", \"will not\", string)\n",
        "    if 'dont ' in string:\n",
        "      string = re.sub(r\"don\\'?t\", \"do not\", string)\n",
        "    if 'don\\'t ' in string:\n",
        "      string = re.sub(r\"don\\'?t\", \"do not\", string)\n",
        "    \n",
        "    if 'cant ' in string:\n",
        "      string = re.sub(r\"can\\'?t\", \" can not\", string)\n",
        "    if 'can\\'t ' in string:\n",
        "      string = re.sub(r\"can\\'?t\", \" can not\", string)\n",
        "\n",
        "    string = re.sub(r\"n\\'t\", \" not\", string)\n",
        "    string = re.sub(r\"\\'re\", \" are\", string)\n",
        "    string = re.sub(r\"\\'d\", \" would\", string)\n",
        "    string = re.sub(r\"\\'ll\", \" will\", string)\n",
        "    string = re.sub(r\",\", \" , \", string)\n",
        "    string = re.sub(r\"!\", \"\", string)\n",
        "    \n",
        "    return string.strip()"
      ],
      "execution_count": 0,
      "outputs": []
    },
    {
      "metadata": {
        "id": "Wux1uMSsVdxM",
        "colab_type": "code",
        "colab": {}
      },
      "cell_type": "code",
      "source": [
        "## BUILD INPUT TEXT LIST FROM DATAFRAME \n",
        "def load_data_and_labels(positive_df,negative_df):\n",
        "    # Load data from files\n",
        "    positive_examples = positive_df['text'].values\n",
        "    positive_examples = [s.strip() for s in positive_examples]\n",
        "\n",
        "    negative_examples = negative_df['text'].values\n",
        "    negative_examples = [s.strip() for s in negative_examples]\n",
        "    \n",
        "    print (len(positive_examples), len(negative_examples))\n",
        "    # Split by words\n",
        "    x_text = positive_examples + negative_examples\n",
        "    x_text = [clean_str(sent) for sent in x_text]\n",
        "    # Generate labels\n",
        "    positive_labels = [1 for _ in positive_examples]\n",
        "    negative_labels = [ 0 for _ in negative_examples]\n",
        "    y = np.concatenate([positive_labels, negative_labels], 0)\n",
        "    return [x_text, y]"
      ],
      "execution_count": 0,
      "outputs": []
    },
    {
      "metadata": {
        "id": "JockzqfXVdxd",
        "colab_type": "code",
        "outputId": "fb05f03d-8a44-4a70-d3bc-19bd7feab7be",
        "colab": {
          "base_uri": "https://localhost:8080/",
          "height": 34
        }
      },
      "cell_type": "code",
      "source": [
        "x_text, y = load_data_and_labels(pos_df,neg_df)"
      ],
      "execution_count": 17,
      "outputs": [
        {
          "output_type": "stream",
          "text": [
            "2078 6389\n"
          ],
          "name": "stdout"
        }
      ]
    },
    {
      "metadata": {
        "id": "egII6mVFVdxo",
        "colab_type": "code",
        "colab": {}
      },
      "cell_type": "code",
      "source": [
        "# CREATE LISTS FROM TEXT AND LABELS FOR TRAINING\n",
        "df2 = pd.DataFrame()\n",
        "df2['text'] = x_text\n",
        "df2['label'] = y\n",
        "\n",
        "np.random.seed(10)\n",
        "df2 = df2.sample(frac = 1)\n",
        "ls = list(df2.text)\n",
        "y = df2.label\n",
        "\n",
        "df2 = (df2[df2['text'] != ''])\n",
        "\n",
        "y = list(y)"
      ],
      "execution_count": 0,
      "outputs": []
    },
    {
      "metadata": {
        "id": "ZBQ21soDVdxw",
        "colab_type": "code",
        "colab": {}
      },
      "cell_type": "code",
      "source": [
        "## EXTEND PRE BUILD VOCABULARY WITH ALL NEW WORDS IN OUR DATASET\n",
        "dic = {}\n",
        "with open('common_vocab.pkl', 'rb') as f:\n",
        "    dic = pickle.load(f)\n",
        "words = list(set(' '.join(ls).split()))\n",
        "count = 20654\n",
        "for i in words:\n",
        "  if i not in dic.keys():\n",
        "    dic[i] = count\n",
        "    count+=1\n",
        "    \n",
        "ct1 = 0\n",
        "maxlen = 500\n",
        "arr = np.zeros((len(ls), maxlen))\n",
        "for pos,sent in enumerate(ls):\n",
        "  sent1 = sent.split()\n",
        "  ct2 = 0\n",
        "  for word in (sent1):\n",
        "    arr[ct1, ct2] = dic[word]\n",
        "    ct2+=1\n",
        "  ct1+=1"
      ],
      "execution_count": 0,
      "outputs": []
    },
    {
      "metadata": {
        "id": "cl704qFmJhLs",
        "colab_type": "code",
        "outputId": "2d54d6d5-07bb-4861-d982-eb186ba92f54",
        "colab": {
          "base_uri": "https://localhost:8080/",
          "height": 34
        }
      },
      "cell_type": "code",
      "source": [
        "## NEW, LARGER DICTIONARY\n",
        "len(dic)"
      ],
      "execution_count": 21,
      "outputs": [
        {
          "output_type": "execute_result",
          "data": {
            "text/plain": [
              "27577"
            ]
          },
          "metadata": {
            "tags": []
          },
          "execution_count": 21
        }
      ]
    },
    {
      "metadata": {
        "id": "VdkNj_yqVdyC",
        "colab_type": "code",
        "colab": {}
      },
      "cell_type": "code",
      "source": [
        "## TRAIN, TEST, AND DEV ARRAYS : 9:1 SPLIT\n",
        "vocab_size = len(dic) + 1\n",
        "x_train = arr\n",
        "y_train = y"
      ],
      "execution_count": 0,
      "outputs": []
    },
    {
      "metadata": {
        "id": "KLKULZ0XVdye",
        "colab_type": "code",
        "outputId": "1161f78b-6d02-4644-be19-38a8b40e4de2",
        "colab": {
          "base_uri": "https://localhost:8080/",
          "height": 173
        }
      },
      "cell_type": "code",
      "source": [
        "from sklearn.utils import shuffle\n",
        "import math\n",
        "print(x_train.shape)\n",
        "print(len(y_train))\n",
        "print(len(ls))\n",
        "length = math.floor(0.9*len(x_train))\n",
        "x_train, y_train, ls = shuffle(x_train, y_train, ls, random_state=0)\n",
        "x_test = x_train[length:]\n",
        "x_train = x_train[:length]\n",
        "y_test = y_train[length:]\n",
        "y_train = y_train[:length]\n",
        "ls_test = ls[length:]\n",
        "ls_train = ls[:length]\n",
        "print(x_train.shape)\n",
        "print(x_test.shape)\n",
        "print(len(y_train))\n",
        "print(len(y_test))\n",
        "print(len(ls_train))\n",
        "print(len(ls_test))"
      ],
      "execution_count": 23,
      "outputs": [
        {
          "output_type": "stream",
          "text": [
            "(8467, 500)\n",
            "8467\n",
            "8467\n",
            "(7620, 500)\n",
            "(847, 500)\n",
            "7620\n",
            "847\n",
            "7620\n",
            "847\n"
          ],
          "name": "stdout"
        }
      ]
    },
    {
      "metadata": {
        "id": "n2hy5H8KVdyr",
        "colab_type": "code",
        "outputId": "4811b0ba-583c-475f-c9ec-f0ed59ed47f8",
        "colab": {
          "base_uri": "https://localhost:8080/",
          "height": 34
        }
      },
      "cell_type": "code",
      "source": [
        "## CLASS WEIGHTING, DO TO IMBALANCE IN DATASET\n",
        "a = np.zeros((len(y_train), 2))\n",
        "\n",
        "count0, count1 = 0, 0\n",
        "count0 += list(y_train).count(0)\n",
        "count1 += list(y_train).count(1)\n",
        "summ = sum([count0, count1])\n",
        "class_weights = [1.0-float(count0)/float(summ), 1.0-float(count1)/float(summ)]\n",
        "print ([i/sum(class_weights) for i in class_weights])"
      ],
      "execution_count": 25,
      "outputs": [
        {
          "output_type": "stream",
          "text": [
            "[0.24606299212598426, 0.7539370078740157]\n"
          ],
          "name": "stdout"
        }
      ]
    },
    {
      "metadata": {
        "id": "Br8hBAmxVdy8",
        "colab_type": "code",
        "colab": {}
      },
      "cell_type": "code",
      "source": [
        "# CREATE EMBED MATRIX FROM GLOVE VECTOR INDEXES\n",
        "import numpy as np\n",
        "vocab_size = len(dic) + 1\n",
        "np.random.seed(10)\n",
        "embed_matrix1 = np.zeros((vocab_size, 300))\n",
        "for word,index in dic.items():\n",
        "  try:\n",
        "    embed_matrix1[index, :] = word_to_vec_map[word]\n",
        "  except:\n",
        "    embed_matrix1[index, :] = np.random.uniform(-1, 1, 300)"
      ],
      "execution_count": 0,
      "outputs": []
    },
    {
      "metadata": {
        "id": "5GotQGwhr3e5",
        "colab_type": "code",
        "outputId": "ecf27eca-4f3a-499d-de73-12ba5b6963cc",
        "colab": {
          "base_uri": "https://localhost:8080/",
          "height": 17
        }
      },
      "cell_type": "code",
      "source": [
        "%%shell\n",
        "mkdir runs/"
      ],
      "execution_count": 28,
      "outputs": [
        {
          "output_type": "execute_result",
          "data": {
            "text/plain": [
              ""
            ]
          },
          "metadata": {
            "tags": []
          },
          "execution_count": 28
        }
      ]
    },
    {
      "metadata": {
        "id": "k1JvxBTWlyOb",
        "colab_type": "code",
        "outputId": "53ed77f5-a4a0-4d56-a7db-492432434e2d",
        "colab": {
          "base_uri": "https://localhost:8080/",
          "height": 34
        }
      },
      "cell_type": "code",
      "source": [
        "np.array(x_train).shape"
      ],
      "execution_count": 30,
      "outputs": [
        {
          "output_type": "execute_result",
          "data": {
            "text/plain": [
              "(7620, 500)"
            ]
          },
          "metadata": {
            "tags": []
          },
          "execution_count": 30
        }
      ]
    },
    {
      "metadata": {
        "id": "Tqrjw6ogVdzJ",
        "colab_type": "code",
        "colab": {}
      },
      "cell_type": "code",
      "source": [
        "import os\n",
        "import re\n",
        "import tensorflow_hub as hub\n",
        "import math\n",
        "import os\n",
        "import time\n",
        "import tensorflow as tf\n",
        "import tqdm\n",
        "from keras.layers import Embedding,Bidirectional, Lambda, concatenate\n",
        "from keras.callbacks import ModelCheckpoint\n",
        "\n",
        "model_2 = None\n",
        "\n",
        "embed_layer = Embedding(input_dim = vocab_size, output_dim = 300, embeddings_initializer = 'glorot_uniform', trainable = False)\n",
        "embed_layer.build([None])\n",
        "embed_layer.set_weights([embed_matrix1])\n",
        "\n",
        "inp = Input(shape = (maxlen,))\n",
        "\n",
        "embeddings = embed_layer(inp)\n",
        "\n",
        "gru = Bidirectional(GRU(128,return_sequences=True) ,merge_mode='concat')(embeddings)\n",
        "\n",
        "gru = GRU(128)(gru)\n",
        "dense = Dense(128, activation = 'relu')(gru)\n",
        "dropout = Dropout(0.8)(dense)\n",
        "\n",
        "dense = Dense(64, activation = 'relu')(dense)\n",
        "dropout = Dropout(0.8)(dense)\n",
        "\n",
        "dense = Dense(1, activation = 'sigmoid')(dense)\n",
        "\n",
        "\n",
        "model_2 = Model(inp, dense)\n",
        "model_2.compile(loss = 'binary_crossentropy', optimizer = keras.optimizers.RMSprop(lr=0.005, rho=0.9, epsilon=None, decay=0.0), metrics = ['accuracy'])\n",
        "\n",
        "model_checkpoint = ModelCheckpoint(\"./runs/weights.{epoch:02d}-{val_loss:.2f}.hdf5\",\n",
        "                                  monitor='val_loss',\n",
        "                                  verbose=1,\n",
        "                                  save_best_only=False,\n",
        "                                  save_weights_only=False,\n",
        "                                  mode='auto',\n",
        "                                  period=1)\n",
        "\n",
        "model_2.fit(x_train,y_train,epochs=500,shuffle=True,validation_data=[x_test,y_test],callbacks=[model_checkpoint],batch_size=64,class_weight={0.24704646888947235, 0.7529535311105278} )\n"
      ],
      "execution_count": 0,
      "outputs": []
    },
    {
      "metadata": {
        "id": "iDatgoqcw-B5",
        "colab_type": "text"
      },
      "cell_type": "markdown",
      "source": [
        "#### Download saved model weights from Drive:\n",
        "https://drive.google.com/open?id=1HpZ2_W7vIMRwTiRvocYdvRd3yYMtZXzj\n",
        "\n",
        "save all .hdf5 model files to /runs directory"
      ]
    },
    {
      "metadata": {
        "id": "VRRzqxyAt1Ry",
        "colab_type": "code",
        "colab": {}
      },
      "cell_type": "code",
      "source": [
        "#############################################################\n",
        "# RUN MODEL ON NEW DATA\n",
        "#############################################################"
      ],
      "execution_count": 0,
      "outputs": []
    },
    {
      "metadata": {
        "id": "_qa-34QwyPHk",
        "colab_type": "text"
      },
      "cell_type": "markdown",
      "source": [
        "#### Independent section, meant for testing saved models on new data files\n",
        "Inputs:\n",
        "-  all .hdf5 files in /runs directory\n",
        "-  Test_File.csv \n",
        "-  True_File.csv"
      ]
    },
    {
      "metadata": {
        "id": "4coW7B2YwK8Q",
        "colab_type": "code",
        "colab": {}
      },
      "cell_type": "code",
      "source": [
        "def preprocess(x):  \n",
        "  x= re.sub(r\"(http|ftp|https):\\/\\/([\\w_-]+(?:(?:\\.[\\w_-]+)+))([\\w.,@?^=%&:\\/~+#-]*[\\w@?^=%&\\/~+#-])?\" ,r\" <LINK> \",x)\n",
        "  x= re.sub(r\"\\w+((\\.\\w+))+\",r\" <LINK> \",x) \n",
        "  x= re.sub(r\"[$%@&*#\\\"\\\"]\",r\" \",x)\n",
        "  x= re.sub(r\"[\\(|\\)]\",r\" \",x) \n",
        "  x= re.sub(r\"(\\.)(\\.+)\",r\" \",x)\n",
        "  x= re.sub(r\"_+\",r\" \",x) \n",
        "  x= re.sub(r\"\\s+\",r\" \",x) \n",
        "  x= x.lower()\n",
        "  x= clean_str(x)\n",
        "  return x\n"
      ],
      "execution_count": 0,
      "outputs": []
    },
    {
      "metadata": {
        "id": "udm9LAqZxygK",
        "colab_type": "text"
      },
      "cell_type": "markdown",
      "source": [
        " Evaluation run on  Test_File.csv file"
      ]
    },
    {
      "metadata": {
        "id": "L6wczvJNt176",
        "colab_type": "code",
        "colab": {}
      },
      "cell_type": "code",
      "source": [
        "trial = pd.read_csv('SubtaskA_EvaluationData.csv',header=None)"
      ],
      "execution_count": 0,
      "outputs": []
    },
    {
      "metadata": {
        "id": "jE9VJYdqt_e_",
        "colab_type": "code",
        "colab": {
          "base_uri": "https://localhost:8080/",
          "height": 384
        },
        "outputId": "0f5f2c6f-fb58-458e-d5e9-bf2437c6ac0c"
      },
      "cell_type": "code",
      "source": [
        "qry = list(trial.iloc[:,1])\n",
        "qry = [preprocess(x) for x in qry]\n",
        "for x in qry[:20]:\n",
        "  print(x)"
      ],
      "execution_count": 39,
      "outputs": [
        {
          "output_type": "stream",
          "text": [
            "this would enable live traffic aware apps.\n",
            "please try other formatting like bold italics shadow to distinguish titles/subtitles from content.\n",
            "since computers were invented to save time i suggest we be allowed to upload them all in one zip file - using numbering for the file names and the portal could place them in the right order.\n",
            "allow rearranging if the user wants to change them\n",
            "add simd instructions for better use of arm neon instructions for math and games.\n",
            "also using a hot swapping code generator optimized machine code like hotspot in java does would also be very helpful to mitigate slow c code.\n",
            "microsoft should seriously look into getting rid of symantec for all these payment stuff.\n",
            "i would be extremely useful in a variety of app types to be notified upon call started and ended events at least be able to check whether or not the device is being used for a phonecall.\n",
            "i would like to see informatin about the certification process in the dev center app.\n",
            "it would be nice to see at a glance if an app is featured in one of the markets .\n",
            "also i would be fun to have a record showing the featured markets and dates.\n",
            "make progressring control available for windows phone just like win8.\n",
            "it would be great if the os moved on to the second third etc nfc record and tried to trigger off of them until there was a success.\n",
            "we need for our applications on each of the mobile platforms to be able to read data on a separate ndef records contained in an ndef message.\n",
            "provide process class/apis like that for regular windows to develop lower level operations like task manager in windows\n",
            "please add the possibility the set price market distribution and trial mode existence individually for the xaps.\n",
            "add the ability to do memory profiling on background agent periodic as they are limited on memory and sometimes its too hard to catch memory leaks.\n",
            "either one has to use .net to access a library or microsoft advises to do a .net app with native code in a winrt component.\n",
            "do not limit us artifically just because you do not like native developers.\n",
            "these page templates should be updated to use the medium-sized semibold font by default for the title text.\n"
          ],
          "name": "stdout"
        }
      ]
    },
    {
      "metadata": {
        "id": "8CkBnbjpzN5z",
        "colab_type": "text"
      },
      "cell_type": "markdown",
      "source": [
        "Sample run of a model on Test_File.csv"
      ]
    },
    {
      "metadata": {
        "id": "k4mlsYbJWTpf",
        "colab_type": "code",
        "colab": {}
      },
      "cell_type": "code",
      "source": [
        "from keras.models import load_model\n",
        "model_tst = load_model('/content/runs/weights.15-0.88.hdf5')"
      ],
      "execution_count": 0,
      "outputs": []
    },
    {
      "metadata": {
        "id": "c6INi8FOOzT2",
        "colab_type": "code",
        "outputId": "50d6909f-c595-475d-ea13-6189467b1b5b",
        "colab": {
          "base_uri": "https://localhost:8080/",
          "height": 34
        }
      },
      "cell_type": "code",
      "source": [
        "import numpy as np\n",
        "maxlen = 500\n",
        "\n",
        "dic = {}\n",
        "with open('common_vocab.pkl', 'rb') as f:\n",
        "    dic = pickle.load(f)\n",
        "words = list(set(' '.join(qry).split()))\n",
        "count = 20654\n",
        "for i in words:\n",
        "  if i not in dic.keys():\n",
        "    dic[i] = count\n",
        "    count+=1\n",
        "    \n",
        "vocab_size = len(dic) + 1\n",
        "np.random.seed(10)\n",
        "embed_matrix1 = np.zeros((vocab_size, 300))\n",
        "for word,index in dic.items():\n",
        "  try:\n",
        "    embed_matrix1[index, :] = word_to_vec_map[word]\n",
        "  except:\n",
        "    embed_matrix1[index, :] = np.random.uniform(-1, 1, 300)    \n",
        "    \n",
        "tst = np.zeros((len(qry),maxlen))\n",
        "ct2=0\n",
        "for sen in qry:  \n",
        "  ct1=0\n",
        "  for word in sen.split():\n",
        "    try:\n",
        "      tst[ct2,ct1] = dic[word]\n",
        "    except:\n",
        "      tst[ct2,ct1]=dic['<UNK>']\n",
        "    ct1+=1\n",
        "  ct2+=1\n",
        "print(tst.shape)\n",
        "\n",
        "preds = model_tst.predict(tst)\n"
      ],
      "execution_count": 41,
      "outputs": [
        {
          "output_type": "stream",
          "text": [
            "(833, 500)\n"
          ],
          "name": "stdout"
        }
      ]
    },
    {
      "metadata": {
        "id": "_a_Uk4Q61Fob",
        "colab_type": "code",
        "colab": {}
      },
      "cell_type": "code",
      "source": [
        "preds = model_tst.predict(tst)\n",
        "preds = [int(round(x)) for x in preds.flatten()]\n",
        "trial[2] = preds\n",
        "trial.to_csv('submission.csv')"
      ],
      "execution_count": 0,
      "outputs": []
    },
    {
      "metadata": {
        "id": "WEiPy3IExJgU",
        "colab_type": "code",
        "outputId": "41efde48-22fe-4fa9-a719-f559cc8c0a06",
        "colab": {
          "base_uri": "https://localhost:8080/",
          "height": 384
        }
      },
      "cell_type": "code",
      "source": [
        "# SAMPLE MODEL OUTPUT\n",
        "for i,conf in enumerate(preds[:20]):\n",
        "  print(\"{} : {}\".format(conf,qry[i]))"
      ],
      "execution_count": 0,
      "outputs": [
        {
          "output_type": "stream",
          "text": [
            "[0.00977653] : i'm not asking microsoft to gives permission like android so any app can take my data ,  but do not keep it restricted like iphone.\n",
            "[0.00014952] : somewhere between android and iphone.\n",
            "[0.00014481] : and in the windows store you can flag the app [requires trust] for example.\n",
            "[9.62615e-06] : many thanks sameh hi ,  as we know ,  there is a lot of limitations is wp8 os due the high security in the os itself which is very good ,  but some time we need to allow some apps to do extra works ,  apps which we trust <link> : hotmail app ,  facebook app ,  skype app\n",
            "[0.00028023] : the idea is that we can develop a regular app and we request our permissions in the manifest ,  or the app can ask for trust � more\n",
            "[0.99997413] : please add this simple and extremely helpful feature.\n",
            "[0.00893515] : why not let us have several pages that we can put tiles on and name whatever we want to .\n",
            "[0.08051771] : the idea is if user running our app and by any reason he rebooted the phone so in that case once reboot happen there should be some event so that we can detect that phone is rebooted and we can handle our application accordingly\n",
            "[0.99928236] : add support for the biometric framework from windows 7/8 to allow hardware manufactures to add fingerprint sensors for device login login allows standard user guest/kid mode and for wallet wp8 transaction activation.\n",
            "[0.9999341] : it would be more natural to allow the physical search key to activate the search function on the active application ,  rather than loading bing which is rarely the goal.\n",
            "[0.9999579] : allow platform built-in camera and video apps to use increase and decrease volume hardware keys for picture optical and digital zoom of camera.\n",
            "[0.99981093] : on wp8 add optional support to hook these hardware keys press events for the lens plug-in features hardware keys should include vol+ ,  vol- ,  stage 1 light press camera shutter ,  stage 2 deep press camera shutter.\n",
            "[0.99994326] : i believe there needs to be a marking system in the os like the option of marking several emails in the pop mails.\n",
            "[0.99458957] : if i intend to delete several files photos ,  songs there should be an easier way to do it.\n",
            "[0.03645468] : you can put other apps in one folder ,  and put on startscreen like a tile.\n",
            "[0.96025515] : this is total uncomfortably ,  i think about give to user ,  a choose what he want to bind on search button.\n",
            "[0.99991316] : it would be awesome.\n",
            "[0.9949329] : make it so that you have to enter a password for apps of your choice\n",
            "[0.00172585] : big files  can not be transfered using skydrive ,  it is not praticle\n",
            "[0.4963981] : it would be an improvement if they displayed as graphic smilies instead.\n"
          ],
          "name": "stdout"
        }
      ]
    },
    {
      "metadata": {
        "id": "0k--YAb6zYx2",
        "colab_type": "text"
      },
      "cell_type": "markdown",
      "source": [
        "##### Evaluate all models on SubtaskA_Trial_Test.csv"
      ]
    },
    {
      "metadata": {
        "id": "Kuw9p1fWxFAK",
        "colab_type": "code",
        "outputId": "4948a49e-ff5a-4486-a59c-2fd775a691b4",
        "colab": {
          "base_uri": "https://localhost:8080/",
          "height": 416
        }
      },
      "cell_type": "code",
      "source": [
        "from sklearn.metrics import f1_score\n",
        "\n",
        "y_true = pd.read_csv('True_File.csv',header=None).iloc[:,2]\n",
        "\n",
        "for mod in os.listdir('runs'):  \n",
        "  model_tst = load_model(os.path.join('/content','runs',mod))\n",
        "  preds = model_tst.predict(tst) \n",
        "  y_pred =[int(round(x)) for x in preds.flatten()] \n",
        "  print(\"{} -> {} \".format(mod,f1_score(y_true,y_pred)) )"
      ],
      "execution_count": 0,
      "outputs": [
        {
          "output_type": "stream",
          "text": [
            "weights.15-0.88.hdf5 -> 0.7572463768115941 \n",
            "weights.14-0.49.hdf5 -> 0.7137254901960786 \n",
            "weights.06-0.37.hdf5 -> 0.7874564459930314 \n",
            "weights.23-0.62.hdf5 -> 0.7228464419475654 \n",
            "weights.10-0.50.hdf5 -> 0.7678244972577698 \n",
            "weights.17-0.85.hdf5 -> 0.7374301675977653 \n",
            "weights.19-0.72.hdf5 -> 0.75 \n",
            "weights.01-0.42.hdf5 -> 0.332425068119891 \n",
            "weights.05-0.32.hdf5 -> 0.790035587188612 \n",
            "weights.12-0.55.hdf5 -> 0.739622641509434 \n",
            "weights.11-0.56.hdf5 -> 0.7364485981308412 \n",
            "weights.16-0.64.hdf5 -> 0.7411545623836128 \n",
            "weights.21-0.62.hdf5 -> 0.7283236994219653 \n",
            "weights.18-0.71.hdf5 -> 0.7622504537205081 \n",
            "weights.08-0.54.hdf5 -> 0.6626016260162602 \n",
            "weights.20-0.79.hdf5 -> 0.7382297551789078 \n",
            "weights.02-0.36.hdf5 -> 0.5060240963855421 \n",
            "weights.09-0.62.hdf5 -> 0.7838312829525483 \n",
            "weights.03-0.37.hdf5 -> 0.4568527918781726 \n",
            "weights.22-0.64.hdf5 -> 0.7037773359840954 \n",
            "weights.13-0.54.hdf5 -> 0.7286245353159851 \n",
            "weights.07-0.31.hdf5 -> 0.7518796992481203 \n",
            "weights.04-0.25.hdf5 -> 0.769230769230769 \n"
          ],
          "name": "stdout"
        }
      ]
    },
    {
      "metadata": {
        "id": "AKnHAD3NHJ4g",
        "colab_type": "code",
        "colab": {}
      },
      "cell_type": "code",
      "source": [
        "########################################\n",
        "## UTILITY FUNCTIONS\n",
        "########################################"
      ],
      "execution_count": 0,
      "outputs": []
    },
    {
      "metadata": {
        "id": "foFmcxv7z23Z",
        "colab_type": "code",
        "colab": {
          "base_uri": "https://localhost:8080/",
          "height": 350
        },
        "outputId": "2f05d49f-4103-4779-f0cb-88541824d5ea"
      },
      "cell_type": "code",
      "source": [
        "pip install pydrive"
      ],
      "execution_count": 32,
      "outputs": [
        {
          "output_type": "stream",
          "text": [
            "Collecting pydrive\n",
            "\u001b[?25l  Downloading https://files.pythonhosted.org/packages/52/e0/0e64788e5dd58ce2d6934549676243dc69d982f198524be9b99e9c2a4fd5/PyDrive-1.3.1.tar.gz (987kB)\n",
            "\r\u001b[K    1% |▎                               | 10kB 17.2MB/s eta 0:00:01\r\u001b[K    2% |▋                               | 20kB 2.2MB/s eta 0:00:01\r\u001b[K    3% |█                               | 30kB 3.2MB/s eta 0:00:01\r\u001b[K    4% |█▎                              | 40kB 2.1MB/s eta 0:00:01\r\u001b[K    5% |█▋                              | 51kB 2.6MB/s eta 0:00:01\r\u001b[K    6% |██                              | 61kB 3.1MB/s eta 0:00:01\r\u001b[K    7% |██▎                             | 71kB 3.5MB/s eta 0:00:01\r\u001b[K    8% |██▋                             | 81kB 4.0MB/s eta 0:00:01\r\u001b[K    9% |███                             | 92kB 4.4MB/s eta 0:00:01\r\u001b[K    10% |███▎                            | 102kB 3.5MB/s eta 0:00:01\r\u001b[K    11% |███▋                            | 112kB 3.5MB/s eta 0:00:01\r\u001b[K    12% |████                            | 122kB 5.0MB/s eta 0:00:01\r\u001b[K    13% |████▎                           | 133kB 5.0MB/s eta 0:00:01\r\u001b[K    14% |████▋                           | 143kB 9.4MB/s eta 0:00:01\r\u001b[K    15% |█████                           | 153kB 9.4MB/s eta 0:00:01\r\u001b[K    16% |█████▎                          | 163kB 9.4MB/s eta 0:00:01\r\u001b[K    17% |█████▋                          | 174kB 9.3MB/s eta 0:00:01\r\u001b[K    18% |██████                          | 184kB 9.5MB/s eta 0:00:01\r\u001b[K    19% |██████▎                         | 194kB 9.5MB/s eta 0:00:01\r\u001b[K    20% |██████▋                         | 204kB 45.3MB/s eta 0:00:01\r\u001b[K    21% |███████                         | 215kB 10.4MB/s eta 0:00:01\r\u001b[K    22% |███████▎                        | 225kB 10.3MB/s eta 0:00:01\r\u001b[K    23% |███████▋                        | 235kB 10.5MB/s eta 0:00:01\r\u001b[K    24% |████████                        | 245kB 10.4MB/s eta 0:00:01\r\u001b[K    25% |████████▎                       | 256kB 10.5MB/s eta 0:00:01\r\u001b[K    26% |████████▋                       | 266kB 10.4MB/s eta 0:00:01\r\u001b[K    27% |█████████                       | 276kB 10.6MB/s eta 0:00:01\r\u001b[K    29% |█████████▎                      | 286kB 10.6MB/s eta 0:00:01\r\u001b[K    30% |█████████▋                      | 296kB 10.6MB/s eta 0:00:01\r\u001b[K    31% |██████████                      | 307kB 10.7MB/s eta 0:00:01\r\u001b[K    32% |██████████▎                     | 317kB 55.9MB/s eta 0:00:01\r\u001b[K    33% |██████████▋                     | 327kB 56.3MB/s eta 0:00:01\r\u001b[K    34% |███████████                     | 337kB 57.8MB/s eta 0:00:01\r\u001b[K    35% |███████████▎                    | 348kB 53.5MB/s eta 0:00:01\r\u001b[K    36% |███████████▋                    | 358kB 53.1MB/s eta 0:00:01\r\u001b[K    37% |████████████                    | 368kB 55.8MB/s eta 0:00:01\r\u001b[K    38% |████████████▎                   | 378kB 55.8MB/s eta 0:00:01\r\u001b[K    39% |████████████▋                   | 389kB 56.2MB/s eta 0:00:01\r\u001b[K    40% |█████████████                   | 399kB 11.8MB/s eta 0:00:01\r\u001b[K    41% |█████████████▎                  | 409kB 11.7MB/s eta 0:00:01\r\u001b[K    42% |█████████████▋                  | 419kB 11.7MB/s eta 0:00:01\r\u001b[K    43% |██████████████                  | 430kB 11.7MB/s eta 0:00:01\r\u001b[K    44% |██████████████▎                 | 440kB 11.6MB/s eta 0:00:01\r\u001b[K    45% |██████████████▋                 | 450kB 11.5MB/s eta 0:00:01\r\u001b[K    46% |███████████████                 | 460kB 11.5MB/s eta 0:00:01\r\u001b[K    47% |███████████████▎                | 471kB 11.5MB/s eta 0:00:01\r\u001b[K    48% |███████████████▋                | 481kB 11.5MB/s eta 0:00:01\r\u001b[K    49% |████████████████                | 491kB 11.5MB/s eta 0:00:01\r\u001b[K    50% |████████████████▎               | 501kB 49.3MB/s eta 0:00:01\r\u001b[K    51% |████████████████▋               | 512kB 42.1MB/s eta 0:00:01\r\u001b[K    52% |█████████████████               | 522kB 42.0MB/s eta 0:00:01\r\u001b[K    53% |█████████████████▎              | 532kB 42.4MB/s eta 0:00:01\r\u001b[K    54% |█████████████████▋              | 542kB 42.3MB/s eta 0:00:01\r\u001b[K    55% |██████████████████              | 552kB 48.4MB/s eta 0:00:01\r\u001b[K    57% |██████████████████▎             | 563kB 49.1MB/s eta 0:00:01\r\u001b[K    58% |██████████████████▋             | 573kB 48.7MB/s eta 0:00:01\r\u001b[K    59% |███████████████████             | 583kB 48.9MB/s eta 0:00:01\r\u001b[K    60% |███████████████████▎            | 593kB 49.1MB/s eta 0:00:01\r\u001b[K    61% |███████████████████▋            | 604kB 49.2MB/s eta 0:00:01\r\u001b[K    62% |████████████████████            | 614kB 61.9MB/s eta 0:00:01\r\u001b[K    63% |████████████████████▎           | 624kB 62.8MB/s eta 0:00:01\r\u001b[K    64% |████████████████████▋           | 634kB 63.8MB/s eta 0:00:01\r\u001b[K    65% |█████████████████████           | 645kB 64.6MB/s eta 0:00:01\r\u001b[K    66% |█████████████████████▎          | 655kB 62.8MB/s eta 0:00:01\r\u001b[K    67% |█████████████████████▋          | 665kB 57.2MB/s eta 0:00:01\r\u001b[K    68% |██████████████████████          | 675kB 56.6MB/s eta 0:00:01\r\u001b[K    69% |██████████████████████▎         | 686kB 56.9MB/s eta 0:00:01\r\u001b[K    70% |██████████████████████▋         | 696kB 57.0MB/s eta 0:00:01\r\u001b[K    71% |███████████████████████         | 706kB 56.9MB/s eta 0:00:01\r\u001b[K    72% |███████████████████████▎        | 716kB 57.8MB/s eta 0:00:01\r\u001b[K    73% |███████████████████████▋        | 727kB 58.1MB/s eta 0:00:01\r\u001b[K    74% |████████████████████████        | 737kB 57.1MB/s eta 0:00:01\r\u001b[K    75% |████████████████████████▎       | 747kB 57.7MB/s eta 0:00:01\r\u001b[K    76% |████████████████████████▋       | 757kB 59.4MB/s eta 0:00:01\r\u001b[K    77% |████████████████████████▉       | 768kB 67.0MB/s eta 0:00:01\r\u001b[K    78% |█████████████████████████▏      | 778kB 68.7MB/s eta 0:00:01\r\u001b[K    79% |█████████████████████████▌      | 788kB 67.6MB/s eta 0:00:01\r\u001b[K    80% |█████████████████████████▉      | 798kB 68.0MB/s eta 0:00:01\r\u001b[K    81% |██████████████████████████▏     | 808kB 24.8MB/s eta 0:00:01\r\u001b[K    82% |██████████████████████████▌     | 819kB 24.3MB/s eta 0:00:01\r\u001b[K    83% |██████████████████████████▉     | 829kB 24.3MB/s eta 0:00:01\r\u001b[K    85% |███████████████████████████▏    | 839kB 24.4MB/s eta 0:00:01\r\u001b[K    86% |███████████████████████████▌    | 849kB 24.4MB/s eta 0:00:01\r\u001b[K    87% |███████████████████████████▉    | 860kB 22.8MB/s eta 0:00:01\r\u001b[K    88% |████████████████████████████▏   | 870kB 22.5MB/s eta 0:00:01\r\u001b[K    89% |████████████████████████████▌   | 880kB 22.5MB/s eta 0:00:01\r\u001b[K    90% |████████████████████████████▉   | 890kB 22.5MB/s eta 0:00:01\r\u001b[K    91% |█████████████████████████████▏  | 901kB 22.4MB/s eta 0:00:01\r\u001b[K    92% |█████████████████████████████▌  | 911kB 53.0MB/s eta 0:00:01\r\u001b[K    93% |█████████████████████████████▉  | 921kB 54.6MB/s eta 0:00:01\r\u001b[K    94% |██████████████████████████████▏ | 931kB 54.8MB/s eta 0:00:01\r\u001b[K    95% |██████████████████████████████▌ | 942kB 54.8MB/s eta 0:00:01\r\u001b[K    96% |██████████████████████████████▉ | 952kB 52.3MB/s eta 0:00:01\r\u001b[K    97% |███████████████████████████████▏| 962kB 61.6MB/s eta 0:00:01\r\u001b[K    98% |███████████████████████████████▌| 972kB 63.3MB/s eta 0:00:01\r\u001b[K    99% |███████████████████████████████▉| 983kB 61.9MB/s eta 0:00:01\r\u001b[K    100% |████████████████████████████████| 993kB 20.6MB/s \n",
            "\u001b[?25hRequirement already satisfied: google-api-python-client>=1.2 in /usr/local/lib/python3.6/dist-packages (from pydrive) (1.6.7)\n",
            "Requirement already satisfied: oauth2client>=4.0.0 in /usr/local/lib/python3.6/dist-packages (from pydrive) (4.1.3)\n",
            "Requirement already satisfied: PyYAML>=3.0 in /usr/local/lib/python3.6/dist-packages (from pydrive) (3.13)\n",
            "Requirement already satisfied: uritemplate<4dev,>=3.0.0 in /usr/local/lib/python3.6/dist-packages (from google-api-python-client>=1.2->pydrive) (3.0.0)\n",
            "Requirement already satisfied: httplib2<1dev,>=0.9.2 in /usr/local/lib/python3.6/dist-packages (from google-api-python-client>=1.2->pydrive) (0.11.3)\n",
            "Requirement already satisfied: six<2dev,>=1.6.1 in /usr/local/lib/python3.6/dist-packages (from google-api-python-client>=1.2->pydrive) (1.11.0)\n",
            "Requirement already satisfied: pyasn1>=0.1.7 in /usr/local/lib/python3.6/dist-packages (from oauth2client>=4.0.0->pydrive) (0.4.5)\n",
            "Requirement already satisfied: rsa>=3.1.4 in /usr/local/lib/python3.6/dist-packages (from oauth2client>=4.0.0->pydrive) (4.0)\n",
            "Requirement already satisfied: pyasn1-modules>=0.0.5 in /usr/local/lib/python3.6/dist-packages (from oauth2client>=4.0.0->pydrive) (0.2.4)\n",
            "Building wheels for collected packages: pydrive\n",
            "  Building wheel for pydrive (setup.py) ... \u001b[?25ldone\n",
            "\u001b[?25h  Stored in directory: /root/.cache/pip/wheels/fa/d2/9a/d3b6b506c2da98289e5d417215ce34b696db856643bad779f4\n",
            "Successfully built pydrive\n",
            "Installing collected packages: pydrive\n",
            "Successfully installed pydrive-1.3.1\n"
          ],
          "name": "stdout"
        }
      ]
    },
    {
      "metadata": {
        "id": "QgDM7hzWVGkl",
        "colab_type": "code",
        "colab": {}
      },
      "cell_type": "code",
      "source": [
        "import os\n",
        "from pydrive.auth import GoogleAuth\n",
        "from pydrive.drive import GoogleDrive\n",
        "from google.colab import auth\n",
        "from oauth2client.client import GoogleCredentials\n",
        "\n",
        "auth.authenticate_user()\n",
        "gauth = GoogleAuth()\n",
        "gauth.credentials = GoogleCredentials.get_application_default()\n",
        "drive = GoogleDrive(gauth)\n",
        "\n",
        "file_list = drive.ListFile(\n",
        "    {'q': \"'1HpZ2_W7vIMRwTiRvocYdvRd3yYMtZXzj' in parents\"}).GetList()\n",
        "dicti = {}\n",
        "for f in file_list:\n",
        "  try:\n",
        "    dicti[f['title']] = f['id']\n",
        "    fname = os.path.join(\"runs\", f['title'][-20:])\n",
        "    print('downloading {} to {}'.format(f['title'],fname))\n",
        "    f_ = drive.CreateFile({'id': f['id']})\n",
        "    f_.GetContentFile(fname)\n",
        "    \n",
        "  except:\n",
        "    continue"
      ],
      "execution_count": 0,
      "outputs": []
    },
    {
      "metadata": {
        "id": "mAAavdLxBWnD",
        "colab_type": "code",
        "colab": {}
      },
      "cell_type": "code",
      "source": [
        "import os\n",
        "from pydrive.auth import GoogleAuth\n",
        "from pydrive.drive import GoogleDrive\n",
        "from google.colab import auth\n",
        "from oauth2client.client import GoogleCredentials\n",
        "\n",
        "# 1. Authenticate and create the PyDrive client.\n",
        "auth.authenticate_user()\n",
        "gauth = GoogleAuth()\n",
        "gauth.credentials = GoogleCredentials.get_application_default()\n",
        "drive = GoogleDrive(gauth)\n",
        "\n",
        "for i in os.listdir('./runs'):\n",
        "  fid = '1HpZ2_W7vIMRwTiRvocYdvRd3yYMtZXzj'\n",
        "  f = drive.CreateFile({\"parents\": [{\"kind\": \"drive#fileLink\", \"id\": fid}]})\n",
        "  f.SetContentFile('./runs/'+i)\n",
        "  f.Upload()\n",
        "  print(i)"
      ],
      "execution_count": 0,
      "outputs": []
    }
  ]
}